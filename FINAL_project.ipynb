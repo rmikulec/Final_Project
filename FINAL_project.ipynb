{
 "cells": [
  {
   "cell_type": "markdown",
   "metadata": {},
   "source": [
    "# Final project\n",
    "\n",
    "**Can you escape a velociraptor?**\n",
    "\n",
    "Your goal is to figure out whether or not a velociraptor will catch you or if you can outrun it!\n",
    "\n",
    "## Problem 1. Position vs. time\n",
    "\n",
    "Suppose a velociraptor can run 18 m/s. And suppose you can run at 3 m/s, but you have a 30 meter head start. Assume that you and the 'raptor accelerate so quickly that you can ignore acceleration. \n",
    "\n",
    "Make a plot of the position vs. time for both you and the 'raptor (plot both on the same figure). Clearly label all axes and give the plot a legend. Plot over a suitable time frame. Save the figure as a .png file. \n",
    "\n",
    "*This plot will be included in your write-up*."
   ]
  },
  {
   "cell_type": "code",
   "execution_count": 54,
   "metadata": {
    "collapsed": false
   },
   "outputs": [
    {
     "data": {
      "text/plain": [
       "<matplotlib.legend.Legend at 0x7f8be6c3ef90>"
      ]
     },
     "execution_count": 54,
     "metadata": {},
     "output_type": "execute_result"
    },
    {
     "data": {
      "image/png": "[encoded data removed]",
      "text/plain": [
       "<matplotlib.figure.Figure at 0x7f8be8d1ca10>"
      ]
     },
     "metadata": {},
     "output_type": "display_data"
    }
   ],
   "source": [
    "import numpy as np\n",
    "import matplotlib.pylab as plt\n",
    "%matplotlib inline\n",
    "\n",
    "length = 1000\n",
    "times = x=np.linspace(0,10,length)\n",
    "human_positions = 30+3*times\n",
    "raptor_positions = 18*times\n",
    "human_start = 30\n",
    "\n",
    "\n",
    "plt.xlabel(\"Time\")\n",
    "plt.ylabel(\"Position\")\n",
    "plt.plot(times,human_positions,'b-',markersize=6,label='Human')\n",
    "plt.plot(times,raptor_positions,'r-',markersize=6,label='Raptor')\n",
    "plt.title(\"Human vs. Raptor\")\n",
    "plt.legend(loc='lower right')"
   ]
  },
  {
   "cell_type": "markdown",
   "metadata": {},
   "source": [
    "## Problem 2. When does the 'raptor catch up to you?\n",
    "\n",
    "Use your code to figure out when the raptor catches up to you. Both how much time has passed and how far *you* have run.  \n",
    "\n",
    "Do not just get this information off the graph. Use your Python code to figure this out! Getting the information just by looking at the plot will result in a 0 for this question. You can use an analytic approach (algebra) to check your answer, but that is not the approach I want you to use. Depending on how you write your code, you might not get an *exact* answer, but you should find a way to get pretty close to the algebraic solution. "
   ]
  },
  {
   "cell_type": "code",
   "execution_count": 55,
   "metadata": {
    "collapsed": false
   },
   "outputs": [
    {
     "name": "stdout",
     "output_type": "stream",
     "text": [
      "At 2 seconds, the raptor and human will both be at 36 meters\n"
     ]
    }
   ],
   "source": [
    "for i in range(0, length):\n",
    "    if(int(human_positions[i])==int(raptor_positions[i])):\n",
    "        time = x[i]\n",
    "        position = human_positions[i]\n",
    "\n",
    "print \"At %i seconds, the raptor and human will both be at %i meters\"%(time, position)"
   ]
  },
  {
   "cell_type": "markdown",
   "metadata": {},
   "source": [
    "## Problem 3. When is it close enough to strike?\n",
    "\n",
    "It turns out the 'raptor will start trying to attack when it is 1 meter away. How much time has passed and how far have you run when it is 1 meter behind you? Use a similar approach as the last problem. \n",
    "\n",
    "***Also make a new copy of the above plot, but label (with a line or arrow or whatever you want) the point at which the raptor is 1 meter behind you.***"
   ]
  },
  {
   "cell_type": "code",
   "execution_count": 56,
   "metadata": {
    "collapsed": false
   },
   "outputs": [
    {
     "name": "stdout",
     "output_type": "stream",
     "text": [
      "After 1.94194194194 seconds, the raptor will have run 34.954954955 meters, and the human would have run 5.825826 meters,\n",
      " making them 1 meter apart\n"
     ]
    },
    {
     "data": {
      "text/plain": [
       "(30, 40)"
      ]
     },
     "execution_count": 56,
     "metadata": {},
     "output_type": "execute_result"
    },
    {
     "data": {
      "image/png": "[encoded data removed]",
      "text/plain": [
       "<matplotlib.figure.Figure at 0x7f8be8fbce50>"
      ]
     },
     "metadata": {},
     "output_type": "display_data"
    }
   ],
   "source": [
    "for i in range(0, length):\n",
    "    if(int(human_positions[i])-1==int(raptor_positions[i])):\n",
    "        distance_close_raptor = raptor_positions[i]\n",
    "        distance_close_human = human_positions[i]\n",
    "        time_close = x[i]\n",
    "\n",
    "print \"After %s seconds, the raptor will have run %s meters, and the human would have run %f meters,\\n making them 1 meter apart\" %(time_close,distance_close_raptor, distance_close_human-30)\n",
    "\n",
    "plt.plot(times,human_positions,'b-',markersize=6,label='Human')\n",
    "plt.plot(times,raptor_positions,'r-',markersize=6,label='Raptor')\n",
    "plt.plot(time_close, distance_close_raptor, 'r*',markersize=12, label=\"Raptor: 1 meter\")\n",
    "plt.plot(time_close, distance_close_human, 'b*',markersize=12, label=\"Human: 1 meter\")\n",
    "plt.title(\"1 meter away\")\n",
    "plt.legend(loc='lower right')\n",
    "plt.xlabel(\"Time\")\n",
    "plt.ylabel(\"Position\")\n",
    "plt.xlim(1.8,2.3)\n",
    "plt.ylim(30,40)"
   ]
  },
  {
   "cell_type": "markdown",
   "metadata": {},
   "source": [
    "## Problem 4. Will it bite you?\n",
    "\n",
    "When the 'raptor is 1 meter away, it will try to bite you. If it doesn't bite you, it will try a second and (if necessary) a third time. If it doesn't get you on the third try, it will grow frustrated and stop chasing you. Hurray!\n",
    "\n",
    "Suppose the first time it tries, there is a 20% chance it will bite you. If it misses and it needs to try a second time, there is only a 15% chance, and if it misses *that* time, there is only a 7% chance on the third try. \n",
    "\n",
    "If it bites you once, you're 'raptor food. If it misses all three times, you get away!\n",
    "\n",
    "What is the probability that you will get away?\n"
   ]
  },
  {
   "cell_type": "code",
   "execution_count": 57,
   "metadata": {
    "collapsed": false
   },
   "outputs": [
    {
     "name": "stdout",
     "output_type": "stream",
     "text": [
      "The probability of you escaping is 63.2798 percent\n"
     ]
    }
   ],
   "source": [
    "tries =1000000\n",
    "prob = 0\n",
    "for i in range(0,tries):\n",
    "    first = np.random.random()\n",
    "    if(first>.2):\n",
    "        second = np.random.random()\n",
    "        if(second>.15):\n",
    "            third = np.random.random()\n",
    "            if(third>.07):\n",
    "                prob+=1\n",
    "prob = (float(prob)/tries) * 100\n",
    "print \"The probability of you escaping is %s percent\" %(prob)"
   ]
  },
  {
   "cell_type": "code",
   "execution_count": null,
   "metadata": {
    "collapsed": true
   },
   "outputs": [],
   "source": []
  },
  {
   "cell_type": "code",
   "execution_count": null,
   "metadata": {
    "collapsed": true
   },
   "outputs": [],
   "source": []
  }
 ],
 "metadata": {
  "kernelspec": {
   "display_name": "Python 2",
   "language": "python",
   "name": "python2"
  },
  "language_info": {
   "codemirror_mode": {
    "name": "ipython",
    "version": 2
   },
   "file_extension": ".py",
   "mimetype": "text/x-python",
   "name": "python",
   "nbconvert_exporter": "python",
   "pygments_lexer": "ipython2",
   "version": "2.7.10"
  }
 },
 "nbformat": 4,
 "nbformat_minor": 0
}
